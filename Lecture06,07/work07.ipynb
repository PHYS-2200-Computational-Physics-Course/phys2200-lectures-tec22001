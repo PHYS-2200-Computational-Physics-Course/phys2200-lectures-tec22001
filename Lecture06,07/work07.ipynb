{
 "cells": [
  {
   "cell_type": "code",
   "execution_count": null,
   "id": "8615be1c-037a-40fc-8c59-1b5f6751cd54",
   "metadata": {},
   "outputs": [],
   "source": [
    "\"\"\"\n",
    "    mylegendre(m, x)\n",
    "\n",
    "Calculate Legendre polynomial P_n(x) using the recurrence relation    \n",
    "(n+1)P_{n+1}(x) = (2*n+1)*x*P_n(x) - n*P_{n-1}(x), and P_0(x) = 1, P_1(x) = x\n",
    "\"\"\"\n",
    "function mylegendre(m, x)\n",
    "\n",
    "    pp = 1\n",
    "    if m == 0\n",
    "        return pp\n",
    "    end\n",
    "\n",
    "    pc = x\n",
    "    if m == 1\n",
    "        return pc\n",
    "    end\n",
    "\n",
    "    for n = 1:(m-1)\n",
    "        pn = (2*n + 1)/(n + 1)*x*pc - n/(n + 1)*pp\n",
    "        pp = pc\n",
    "        pc = pn\n",
    "    end\n",
    "\n",
    "    return pc\n",
    "end\n"
   ]
  },
  {
   "cell_type": "code",
   "execution_count": null,
   "id": "3c58ed89-34c7-4384-81e0-881c55bde3ba",
   "metadata": {},
   "outputs": [],
   "source": [
    "@show mylegendre(3, 0.0);   # must be 0\n",
    "@show mylegendre(3, -1.0);  # must be -1"
   ]
  },
  {
   "cell_type": "code",
   "execution_count": null,
   "id": "a9440190-c437-4156-85f0-cd0446db89ef",
   "metadata": {},
   "outputs": [],
   "source": [
    "@time mylegendre(1, 1.0)"
   ]
  },
  {
   "cell_type": "code",
   "execution_count": null,
   "id": "6e9e7ec3-9328-45d6-b0db-9acf6cc9b8ef",
   "metadata": {},
   "outputs": [],
   "source": [
    "@time mylegendre(51, -1.0)"
   ]
  },
  {
   "cell_type": "code",
   "execution_count": null,
   "id": "31c551d2-1b7a-41cb-8d36-97fee447c428",
   "metadata": {},
   "outputs": [],
   "source": [
    "\n",
    "np = 100\n",
    "x = range(-1.0, 1.0, np);"
   ]
  },
  {
   "cell_type": "code",
   "execution_count": null,
   "id": "799050f2-a890-485f-a0af-eb55e2e7c984",
   "metadata": {},
   "outputs": [],
   "source": [
    "using PyPlot"
   ]
  },
  {
   "cell_type": "code",
   "execution_count": null,
   "id": "e6eec8d4-5533-4681-aae3-8b835459a795",
   "metadata": {},
   "outputs": [],
   "source": [
    "for n = [2,3,5,7]\n",
    "    plot(x, mylegendre.(n, x), label=L\"P_{%$n}\")\n",
    "    end\n",
    "\n",
    "xlabel(\"smth\")\n",
    "ylabel(\"smth\")\n",
    "title(\"smth smth\")\n",
    "legend()\n",
    "grid(true)"
   ]
  },
  {
   "cell_type": "code",
   "execution_count": null,
   "id": "9e71b7d4-047e-4942-9c9b-4548abd6c29c",
   "metadata": {},
   "outputs": [],
   "source": []
  }
 ],
 "metadata": {
  "kernelspec": {
   "display_name": "Julia 1.11.6",
   "language": "julia",
   "name": "julia-1.11"
  },
  "language_info": {
   "file_extension": ".jl",
   "mimetype": "application/julia",
   "name": "julia",
   "version": "1.11.6"
  }
 },
 "nbformat": 4,
 "nbformat_minor": 5
}
