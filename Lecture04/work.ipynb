{
 "cells": [
  {
   "cell_type": "code",
   "execution_count": null,
   "id": "96774198-330d-45b9-815b-cb74ce37579d",
   "metadata": {},
   "outputs": [],
   "source": [
    "#] add DelimitedFiles\n",
    "using DelimitedFiles\n",
    "using PyPlot"
   ]
  },
  {
   "cell_type": "code",
   "execution_count": null,
   "id": "aebaab4e-1421-47d7-b1e8-80a866b25530",
   "metadata": {},
   "outputs": [],
   "source": [
    "url = \"https://www.phys.uconn.edu/~rozman/Courses/P2200_25F/downloads/trinity-test.data\""
   ]
  },
  {
   "cell_type": "code",
   "execution_count": null,
   "id": "cd36ae4c-a1d7-4e9e-836e-39ea073a6c62",
   "metadata": {},
   "outputs": [],
   "source": [
    "observations = download(url)"
   ]
  },
  {
   "cell_type": "code",
   "execution_count": null,
   "id": "b03ffe89-e1fe-4618-8c2b-227b30356f7c",
   "metadata": {},
   "outputs": [],
   "source": [
    "\n",
    "dat = readdlm(observations, comments=true, comment_char='#')"
   ]
  },
  {
   "cell_type": "code",
   "execution_count": null,
   "id": "f7dd15f0-2dda-4251-b528-d50d4217a3c0",
   "metadata": {},
   "outputs": [],
   "source": [
    "t = dat[:,1]"
   ]
  },
  {
   "cell_type": "code",
   "execution_count": null,
   "id": "273580af-0b34-4489-b096-ef68c84d4066",
   "metadata": {},
   "outputs": [],
   "source": [
    "radius = dat[:,2]"
   ]
  },
  {
   "cell_type": "code",
   "execution_count": null,
   "id": "7eb02492-4ab5-4cdc-bf54-853eadb57f9d",
   "metadata": {},
   "outputs": [],
   "source": [
    "plot(t,radius)"
   ]
  },
  {
   "cell_type": "code",
   "execution_count": null,
   "id": "0c7dee34-84fd-4478-9d80-060c9f4a3e00",
   "metadata": {},
   "outputs": [],
   "source": [
    "loglog(t,radius,\"bo\",label=\"Measurements\")\n",
    "#hold\n",
    "#loglog(radius,t,\"ro\",label=\"backwards\")\n",
    "grid(true)\n",
    "xlabel(\"Time (s)\")\n",
    "ylabel(\"Radius (m)\")\n",
    "title(\"Trinity Test Data\")\n",
    "legend()\n",
    "\n"
   ]
  },
  {
   "cell_type": "code",
   "execution_count": null,
   "id": "10b0aa4e-1346-495a-9078-5610a71056a0",
   "metadata": {},
   "outputs": [],
   "source": [
    "nm = length(t[3:end])"
   ]
  },
  {
   "cell_type": "code",
   "execution_count": null,
   "id": "361082dc-d7c2-43de-b1e9-1e6321da0618",
   "metadata": {},
   "outputs": [],
   "source": [
    "tlogbar = sum(log.(t[3:end]))/nm"
   ]
  },
  {
   "cell_type": "code",
   "execution_count": null,
   "id": "60aa2534-e703-4896-9aca-d725629baff7",
   "metadata": {},
   "outputs": [],
   "source": [
    "rlogbar = sum(log.(radius[3:end]))/nm"
   ]
  },
  {
   "cell_type": "code",
   "execution_count": null,
   "id": "c7157f94-79fd-4f6a-b45b-275078b528ef",
   "metadata": {},
   "outputs": [],
   "source": [
    "alphalogbar = rlogbar - 2/5 * tlogbar"
   ]
  },
  {
   "cell_type": "code",
   "execution_count": null,
   "id": "8ac3fb10-59ea-4376-b9ec-29509cd2acd8",
   "metadata": {},
   "outputs": [],
   "source": [
    "const scale = 1.0e6   # Extra factor due to measuring time in ms\n",
    "const rho = 1.2       # Density of air in kg/m^3 at T = 20 C\n",
    "const tnt = 4.184e12; # J per 1 kt of TNT"
   ]
  },
  {
   "cell_type": "code",
   "execution_count": null,
   "id": "c06521e1-4863-45ae-82eb-7273a8457d22",
   "metadata": {},
   "outputs": [],
   "source": [
    "alpha = exp(alphalogbar)\n",
    "println(\"a = $(round(alpha, sigdigits=4))\")"
   ]
  },
  {
   "cell_type": "code",
   "execution_count": null,
   "id": "2de1a3c8-3f95-4a36-b4ad-e64548b5f57d",
   "metadata": {},
   "outputs": [],
   "source": [
    "energyJ = energy = scale * alpha^5 *rho\n",
    "println(\"E = $(round(energyJ, sigdigits=3)) Joules\")"
   ]
  },
  {
   "cell_type": "code",
   "execution_count": null,
   "id": "49cc63d0-bb43-402c-a4b9-7837a2d12a11",
   "metadata": {},
   "outputs": [],
   "source": [
    "energyT = energyJ/tnt\n",
    "println(\"E = $(round(energyT, sigdigits=3)) kilotons of TNT\")"
   ]
  },
  {
   "cell_type": "code",
   "execution_count": null,
   "id": "1eba1263-ac74-4ade-af0c-6e7eeea4a338",
   "metadata": {},
   "outputs": [],
   "source": [
    "rad(t, alpha) = alpha * t ^ (2/5) ;"
   ]
  },
  {
   "cell_type": "code",
   "execution_count": null,
   "id": "abc7a2fa-6798-4624-bf0d-ac7e31459b07",
   "metadata": {},
   "outputs": [],
   "source": [
    "loglog(t,radius,\"bo\",label=\"Measurements\")\n",
    "loglog(t,rad.(t,alpha),\"b-\",label=\"theory\")\n",
    "#loglog(radius,t,\"ro\",label=\"backwards\")\n",
    "grid(true)\n",
    "xlabel(\"Time (s)\")\n",
    "ylabel(\"Radius (m)\")\n",
    "title(\"Trinity Test Data\")\n",
    "legend()"
   ]
  },
  {
   "cell_type": "code",
   "execution_count": null,
   "id": "f0d492ad-2448-49c9-a2cb-d71627b51267",
   "metadata": {},
   "outputs": [],
   "source": []
  }
 ],
 "metadata": {
  "kernelspec": {
   "display_name": "Julia 1.11.6",
   "language": "julia",
   "name": "julia-1.11"
  },
  "language_info": {
   "file_extension": ".jl",
   "mimetype": "application/julia",
   "name": "julia",
   "version": "1.11.6"
  }
 },
 "nbformat": 4,
 "nbformat_minor": 5
}
