{
 "cells": [
  {
   "cell_type": "markdown",
   "id": "1352898a-c6e9-4745-b568-0ab32819be96",
   "metadata": {},
   "source": [
    "\n",
    "# Linear regression"
   ]
  },
  {
   "cell_type": "markdown",
   "id": "bfdba51f-b14a-44ee-8be5-8fae70ee79be",
   "metadata": {},
   "source": [
    "\n",
    "Suppose we conduct an experiment where we observe $n$ data pairs and\n",
    "call them $(x_i, y_i)$, $i = 1, \\dots, n$. We want to describe the\n",
    "underlying relationship between $y_i$ and $x_i$ involving the error of\n",
    "the measurements, $\\varepsilon_i$, by the following relation:\n",
    "\n",
    "\\begin{equation}\n",
    "  y_i = \\alpha  + \\beta x_i + \\varepsilon_i .\n",
    "\\end{equation}\n",
    "\n",
    "This relationship between the true (but unobserved)\n",
    "parameters $\\alpha$ and $\\beta$ and the data points is called a *linear\n",
    "regression model*."
   ]
  },
  {
   "cell_type": "markdown",
   "id": "08b1f8a1-fdfa-4778-92a2-c2cd17d54386",
   "metadata": {},
   "source": [
    "\n",
    "Out goal is to find estimated values, $\\widehat{\\alpha}$ and\n",
    "$\\widehat{\\beta}$, for the parameters $\\alpha$ and $\\beta$ which would\n",
    "provide the \"best\" fit in some sense for the data points\n",
    "$(x_i, y_i)$,. We chose the best fit in the least-squares sense: the\n",
    "best-fit line minimizes the sum of squared residuals,\n",
    "$\\widehat{\\varepsilon}_i$, which are the differences between measured\n",
    "and predicted values of the dependent variable y:\n",
    "\\begin{equation}\n",
    "  \\widehat{\\varepsilon}_i = y_i - \\widehat{\\alpha} -\n",
    "  \\widehat{\\beta} x_i.   \n",
    "\\end{equation}"
   ]
  },
  {
   "cell_type": "markdown",
   "id": "342255ff-0b08-478c-8b71-9e229aa038a9",
   "metadata": {},
   "source": [
    "\n",
    "That is, we are looking for the values $\\widehat{\\alpha}$ and\n",
    "$\\widehat{\\beta}$ that are the solutions of the following minimization problem:\n",
    "find\n",
    "\\begin{equation}\n",
    "  \\min_{\\widehat{\\alpha}, \\,\\widehat{\\beta}}\n",
    "  Q(\\widehat{\\alpha}, \\widehat{\\beta}),\n",
    "\\end{equation}\n",
    "where\n",
    "\\begin{equation}\n",
    "  Q(\\widehat{\\alpha},\\widehat{\\beta}) = \\sum_{i=1}^n \\widehat{\\varepsilon}_i^2=\n",
    "  \\sum_{i=1}^n \\left(y_i - \\widehat{\\alpha} - \\widehat{\\beta} x_i\\right)^2 .  \n",
    "\\end{equation}"
   ]
  },
  {
   "cell_type": "markdown",
   "id": "50bb13be-cff4-4dc1-8fc8-8a55464c8717",
   "metadata": {},
   "source": [
    "\n",
    "To find a minimum, we take partial derivatives of $Q$ with respect to\n",
    "$\\widehat{\\alpha}$ and $\\widehat{\\beta}$ and equate them to\n",
    "zeros."
   ]
  },
  {
   "cell_type": "markdown",
   "id": "ac06e451-5f8a-4382-911e-04bf2ef5d99d",
   "metadata": {},
   "source": [
    "\n",
    "\\begin{equation}\n",
    "  \\frac{\\partial}{\\partial \\widehat{\\alpha}}\n",
    "  Q(\\widehat{\\alpha }, \\widehat{\\beta}) = \n",
    "  -2 \\sum_{i=1}^n \\left(\n",
    "    y_i - \\widehat{\\alpha} - \\widehat{\\beta} x_i\n",
    "  \\right) = 0 ,\n",
    "\\end{equation}\n",
    "or\n",
    "\\begin{equation}\n",
    "  \\sum_{i=1}^n \\left(y_i - \\widehat{\\alpha} - \\widehat{\\beta} x_i\n",
    "  \\right) = 0 .\n",
    "\\end{equation}\n",
    "Rearranging the terms and\n",
    "introducing notations $\\bar{x}$ and $\\bar{y}$ for the average\n",
    "values of the $x_i$ and $y_i$, respectively:\n",
    "\\begin{equation}\n",
    "  \\bar{x} \\equiv \\frac{1}{n} \\sum_{i=1}^n x_i, \\quad\n",
    "  \\bar{y} \\equiv \\frac{1}{n} \\sum_{i=1}^n y_i ,\n",
    "\\end{equation}\n",
    "we obtain:\n",
    "\\begin{equation}\n",
    "  \\widehat{\\alpha} = \\bar{y} - \\widehat{\\beta} \\bar{x} , \n",
    "\\end{equation}\n",
    "or\n",
    "\\begin{equation}\n",
    "  \\bar{y} = \\widehat{\\alpha} + \\widehat{\\beta} \\bar{x} .\n",
    "\\end{equation}\n",
    "This relation can be interpreted as follows: the best\n",
    "fit line passes through the ``center of mass'' of the data points.\n"
   ]
  },
  {
   "cell_type": "markdown",
   "id": "4c88a7d0-fdfe-495e-9d2f-bae99fc60563",
   "metadata": {},
   "source": [
    "\n",
    "Now, take the derivative with respect to $\\widehat{\\beta}$:\n",
    "\\begin{equation}\n",
    "  \\frac{\\partial}{\\partial \\widehat{\\beta}}\n",
    "  Q(\\widehat{\\alpha}, \\widehat{\\beta}) =\n",
    "  -2 \\sum_{i=1}^n \\left(\n",
    "    \\left( y_i - \\bar{y} \\right) -\n",
    "    \\widehat{\\beta} \\left( x_i - \\bar{x} \\right)\n",
    "  \\right) \\left( x_i - \\bar{x} \\right) = 0  .\n",
    "\\end{equation}\n",
    "Rearranging the terms,\n",
    "\\begin{equation}\n",
    "  \\sum_{i=1}^n \\left( y_i - \\bar{y} \\right)\n",
    "  \\left(x_{i}- \\bar{x} \\right) -\n",
    "  \\widehat{\\beta}\\sum_{i=1}^n \\left(x_i -\\bar{x} \\right)^{2} = 0,\n",
    "\\end{equation}\n",
    "or\n",
    "\\begin{equation}\n",
    "  \\widehat{\\beta} = \\frac{\\displaystyle\n",
    "    \\sum_{i=1}^n \\left( y_i - \\bar{y} \\right)\n",
    "    \\left( x_i -\\bar{x} \\right)\n",
    "  }{\n",
    "    \\displaystyle \\sum_{i=1}^n \\left( x_i - \\bar{x} \\right)^{2}\n",
    "  } .\n",
    "\\end{equation}\n",
    "We can now\n",
    "determine $\\widehat{\\alpha}$.\n",
    "\\begin{equation}\n",
    "   \\widehat{\\alpha} = \\bar{y} - \\widehat{\\beta} \\bar{x} .\n",
    "\\end{equation}\n",
    "\n",
    "These relations  solve the problem of finding the least squares fit to the data."
   ]
  },
  {
   "cell_type": "markdown",
   "id": "424c8e2c-bad5-43e3-95a0-be014cdc3f6e",
   "metadata": {},
   "source": [
    "\n",
    "## Example"
   ]
  },
  {
   "cell_type": "code",
   "execution_count": 1,
   "id": "395e1fcc-52f5-4bff-a85d-8919d79cd23f",
   "metadata": {},
   "outputs": [
    {
     "data": {
      "text/plain": [
       "linear_regression"
      ]
     },
     "execution_count": 1,
     "metadata": {},
     "output_type": "execute_result"
    }
   ],
   "source": [
    "\n",
    "\"\"\"\n",
    "    alpha, beta, sigma = linear_regression(x, y)\n",
    "\n",
    "Least square fit y = alpha + beta x. sigma is the standard error of beta\n",
    "\"\"\"\n",
    "function linear_regression(x, y)\n",
    "    np = length(x)\n",
    "    xbar = sum(x)/np\n",
    "    ybar = sum(y)/np\n",
    "    x2 = sum((x .- xbar) .^ 2)\n",
    "    beta = sum((y .- ybar) .* (x .- xbar))/x2\n",
    "    alpha = ybar - beta*xbar\n",
    "    sigma = sqrt(sum((y .- alpha .- beta .* x) .^ 2)/((np - 2)*x2))\n",
    "    return alpha, beta, sigma\n",
    "end"
   ]
  },
  {
   "cell_type": "code",
   "execution_count": 2,
   "id": "eacdde5f-76e9-497e-9263-c8f8d7735053",
   "metadata": {},
   "outputs": [],
   "source": [
    "\n",
    "using PyPlot"
   ]
  },
  {
   "cell_type": "markdown",
   "id": "52040d06-d8cc-4c00-b41e-a4b011a7d376",
   "metadata": {},
   "source": [
    "\n",
    "\"Prepare\" the data "
   ]
  },
  {
   "cell_type": "code",
   "execution_count": 3,
   "id": "1d28105d-882a-4071-9d5b-388cae054963",
   "metadata": {},
   "outputs": [],
   "source": [
    "\n",
    "xmin = 0.0\n",
    "xmax = 10.0\n",
    "np = 200\n",
    "sc = 1.5  # noise level\n",
    "x = range(xmin, xmax, np)\n",
    "β₀ = 2.0\n",
    "y = β₀ * x .+ sc .* randn(np);"
   ]
  },
  {
   "cell_type": "code",
   "execution_count": 4,
   "id": "808d66a6-e490-418b-a2d6-64cd3cec245e",
   "metadata": {},
   "outputs": [],
   "source": [
    "\n",
    "alpha, beta, sigma = linear_regression(x, y);"
   ]
  },
  {
   "cell_type": "code",
   "execution_count": 5,
   "id": "2e569855-f4e9-4b4f-be03-a83b98a50ea7",
   "metadata": {},
   "outputs": [
    {
     "data": {
      "text/plain": [
       "1.98"
      ]
     },
     "execution_count": 5,
     "metadata": {},
     "output_type": "execute_result"
    }
   ],
   "source": [
    "\n",
    "round(beta, sigdigits=3)"
   ]
  },
  {
   "cell_type": "code",
   "execution_count": 6,
   "id": "a3f02917-3461-4ab8-900b-9d2c05292152",
   "metadata": {},
   "outputs": [
    {
     "data": {
      "text/plain": [
       "0.0382"
      ]
     },
     "execution_count": 6,
     "metadata": {},
     "output_type": "execute_result"
    }
   ],
   "source": [
    "\n",
    "round(sigma, sigdigits=3)"
   ]
  },
  {
   "cell_type": "code",
   "execution_count": 7,
   "id": "f94dec35-0ae6-4f2d-9750-b557b9a885d3",
   "metadata": {},
   "outputs": [
    {
     "data": {
      "image/png": "[encoded data removed]",
      "text/plain": [
       "Figure(PyObject <Figure size 640x480 with 1 Axes>)"
      ]
     },
     "metadata": {},
     "output_type": "display_data"
    }
   ],
   "source": [
    "\n",
    "plot(x, y, linestyle=\"none\", marker=\".\", label=\"noisy data\")\n",
    "plot(x, alpha .+ beta .* x, linestyle=\"solid\", label=\"linear lsq fit\")\n",
    "\n",
    "grid(true)\n",
    "xlabel(\"x\")\n",
    "ylabel(\"y\")\n",
    "title(\"Linear regression\")\n",
    "legend();"
   ]
  },
  {
   "cell_type": "markdown",
   "id": "392c6dde-cab9-4619-9bbc-0140ac4fa398",
   "metadata": {},
   "source": [
    "## Confidence interval"
   ]
  },
  {
   "cell_type": "markdown",
   "id": "e97c9fab-a0cd-44e0-8c25-65ed650c7607",
   "metadata": {},
   "source": [
    "\n",
    "A *confidence interval* is a range of values, calculated from sample data, that is likely \n",
    "to contain the true value of a parameter of the model. It consists of a point estimate \n",
    "(like a sample mean) plus or minus a margin of error. The confidence level (e.g., 95%) \n",
    "indicates the long-term success rate of the method: if you were to repeat the sampling \n",
    "process many times, 95% of the resulting intervals would contain the true parameter value. "
   ]
  },
  {
   "cell_type": "markdown",
   "id": "3d3f1bf9-9141-413d-871e-74cf12960293",
   "metadata": {},
   "source": [
    "\n",
    "#### Key components:\n",
    "\n",
    "> **Point estimate:** A single value that estimates the model parameter.\n",
    "\n",
    "> **Margin of error:** A value that quantifies the uncertainty in your estimate due to random sampling error. It is added to and subtracted from the point estimate to create the interval. \n",
    "\n",
    "> **Confidence level:** The probability that the confidence interval will contain the true model parameter. A higher confidence level (e.g., 99% vs. 95%) requires a wider interval."
   ]
  },
  {
   "cell_type": "markdown",
   "id": "fd3e8f83-c045-4d91-bacd-d8072088ce08",
   "metadata": {},
   "source": [
    "#### How to interpret a confidence interval\n",
    "\n",
    "> A 95% confidence interval means that if you were to take many different samples and calculate a confidence interval for each, about 95% of those intervals would capture the true parameter value. "
   ]
  },
  {
   "cell_type": "code",
   "execution_count": 8,
   "id": "21c74875-52b5-416a-b56e-3e21a752128b",
   "metadata": {},
   "outputs": [],
   "source": [
    "\n",
    "using Random"
   ]
  },
  {
   "cell_type": "code",
   "execution_count": 9,
   "id": "863f00d4-f0b3-4f91-85e7-8fde895a0f8d",
   "metadata": {},
   "outputs": [
    {
     "data": {
      "text/plain": [
       "TaskLocalRNG()"
      ]
     },
     "execution_count": 9,
     "metadata": {},
     "output_type": "execute_result"
    }
   ],
   "source": [
    "Random.seed!(123) # to have reproducible results"
   ]
  },
  {
   "cell_type": "code",
   "execution_count": 10,
   "id": "cfaf8e1b-8ab4-4024-9736-16580670af11",
   "metadata": {},
   "outputs": [],
   "source": [
    "nrep = 1000\n",
    "betas = zeros(nrep);"
   ]
  },
  {
   "cell_type": "markdown",
   "id": "2e5e08b8-14de-4b61-942a-59760ee19dfc",
   "metadata": {},
   "source": [
    "Repeat the \"experiment\" nrep times"
   ]
  },
  {
   "cell_type": "code",
   "execution_count": 11,
   "id": "f16d400c-3ba6-4aeb-ac2a-b9793d91320f",
   "metadata": {},
   "outputs": [],
   "source": [
    "for i = 1:nrep\n",
    "    y = β₀ * x .+ sc * randn(np)\n",
    "    _, betas[i], _ = linear_regression(x, y)\n",
    "end"
   ]
  },
  {
   "cell_type": "markdown",
   "id": "abfad885-4187-40b1-8702-67ab0abc603d",
   "metadata": {},
   "source": [
    "\n",
    "Distribution of the slopes:"
   ]
  },
  {
   "cell_type": "code",
   "execution_count": 12,
   "id": "3ef61add-663c-437c-99be-c075cb2b0074",
   "metadata": {},
   "outputs": [
    {
     "data": {
      "image/png": "[encoded data removed]",
      "text/plain": [
       "Figure(PyObject <Figure size 640x480 with 1 Axes>)"
      ]
     },
     "metadata": {},
     "output_type": "display_data"
    }
   ],
   "source": [
    "hist(betas)\n",
    "grid(true)\n",
    "xlabel(L\"\\beta\")\n",
    "axvline(x=2.0 - 2*sigma, color=\"r\", linestyle=\"--\", linewidth=2)\n",
    "axvline(x=2.0 + 2*sigma, color=\"r\", linestyle=\":\", linewidth=2);"
   ]
  },
  {
   "cell_type": "code",
   "execution_count": 13,
   "id": "a95c5427-8055-43ac-972b-97834a65b94f",
   "metadata": {},
   "outputs": [
    {
     "data": {
      "text/plain": [
       "0.038"
      ]
     },
     "execution_count": 13,
     "metadata": {},
     "output_type": "execute_result"
    }
   ],
   "source": [
    "round(sigma, digits=3)"
   ]
  },
  {
   "cell_type": "code",
   "execution_count": 14,
   "id": "f5d60518-6c81-4107-aa89-2f16e446ebd0",
   "metadata": {},
   "outputs": [
    {
     "data": {
      "text/plain": [
       "1.98"
      ]
     },
     "execution_count": 14,
     "metadata": {},
     "output_type": "execute_result"
    }
   ],
   "source": [
    "round(beta, sigdigits=3)"
   ]
  },
  {
   "cell_type": "code",
   "execution_count": null,
   "id": "f16a2aed-ee72-42ff-a89d-ecaa763d0f0a",
   "metadata": {},
   "outputs": [],
   "source": []
  }
 ],
 "metadata": {
  "kernelspec": {
   "display_name": "Julia 1.11.6",
   "language": "julia",
   "name": "julia-1.11"
  },
  "language_info": {
   "file_extension": ".jl",
   "mimetype": "application/julia",
   "name": "julia",
   "version": "1.11.6"
  }
 },
 "nbformat": 4,
 "nbformat_minor": 5
}
