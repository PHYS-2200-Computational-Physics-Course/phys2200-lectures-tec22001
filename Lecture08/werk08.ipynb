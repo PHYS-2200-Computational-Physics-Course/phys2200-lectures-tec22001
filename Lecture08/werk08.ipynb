{
 "cells": [
  {
   "cell_type": "code",
   "execution_count": null,
   "id": "588d656c-3b46-4254-93c1-916f398d7796",
   "metadata": {},
   "outputs": [],
   "source": [
    "\n",
    "\"\"\"\n",
    "    ans = mytrapezoids(fun, a, b, n)\n",
    "\n",
    "Numerically evaluate the integral int_a^b fun(x) dx using the\n",
    "trapezoidal rule: I = h/2*(f_1 + 2f_2 + ... + 2f_{n-1} + f_n),\n",
    "where h = (b - a)/(n - 1), x_i = a + (i - 1)*h, f_i = fun(x_i).\n",
    "\"\"\"\n",
    "function mytrapezoids(fun, a, b, n)\n",
    "    h = (b-a)/(n-1)\n",
    "    s1 = fun(a) + fun(b)\n",
    "    s2 = 0.0\n",
    "    for i = 2:(n-1)\n",
    "        s2 += fun(a+h*(i-1))\n",
    "    end\n",
    "    return h/2 *(s1+2*s2)\n",
    "end"
   ]
  },
  {
   "cell_type": "code",
   "execution_count": null,
   "id": "a2f4e68a-45d0-4e8d-9c85-b2702cefcef6",
   "metadata": {},
   "outputs": [],
   "source": [
    "fun1(x) = 1/x\n",
    "a1 = 1.0\n",
    "b1 = 2.0\n",
    "exact1 = log(2)\n",
    "np1 = 20"
   ]
  },
  {
   "cell_type": "code",
   "execution_count": null,
   "id": "ee741996-3e2a-47eb-b374-47558e92bf56",
   "metadata": {},
   "outputs": [],
   "source": [
    "\n",
    "res1 = mytrapezoids(fun1,a1,b1,np1)"
   ]
  },
  {
   "cell_type": "code",
   "execution_count": null,
   "id": "25e18d5a-3f68-4446-8ff9-23dd652873c9",
   "metadata": {},
   "outputs": [],
   "source": [
    "round(abs(res1 - exact1);sigdigits=1)"
   ]
  },
  {
   "cell_type": "code",
   "execution_count": null,
   "id": "21a4f67e-4a3d-449a-90d5-12f22d231d81",
   "metadata": {},
   "outputs": [],
   "source": [
    "\n",
    "fun2(x) = exp(x)\n",
    "a2 = 0.0\n",
    "b2 = 1.0\n",
    "exact2 = exp(1)-exp(0)\n",
    "np2 = 100\n"
   ]
  },
  {
   "cell_type": "code",
   "execution_count": null,
   "id": "04cd8019-521a-4be5-8c71-719ef41d5669",
   "metadata": {},
   "outputs": [],
   "source": [
    "res2 = mytrapezoids(fun2,a2,b2,np2)"
   ]
  },
  {
   "cell_type": "code",
   "execution_count": null,
   "id": "296f3177-99c7-4ab5-8354-4614f4eacdeb",
   "metadata": {},
   "outputs": [],
   "source": [
    "round(abs(res2 - exact2);sigdigits=1)"
   ]
  },
  {
   "cell_type": "code",
   "execution_count": null,
   "id": "709d51b7-0b83-4c4f-8da5-234b665c4387",
   "metadata": {},
   "outputs": [],
   "source": [
    "\n",
    "fun3(x) = sin(x)\n",
    "a3 = 0\n",
    "b3 = pi\n",
    "exact3 = 2.0"
   ]
  },
  {
   "cell_type": "code",
   "execution_count": null,
   "id": "9aaebef2-1932-4143-84c9-98a5683db716",
   "metadata": {},
   "outputs": [],
   "source": [
    "ndp = 10\n",
    "hh = zeros(ndp); # create arrau of ndp elements\n",
    "abserrs = zeros(ndp);"
   ]
  },
  {
   "cell_type": "code",
   "execution_count": null,
   "id": "88b47305-159d-4ff0-925b-ace283645a3f",
   "metadata": {},
   "outputs": [],
   "source": [
    "\n",
    "for i = 1:ndp\n",
    "    np = 2^i + 1\n",
    "    hh[i] = (b3 - a3)/(np - 1)\n",
    "    abserrs[i] = abs(mytrapezoids(fun3,a3,b3,np) - exact3)\n",
    "end"
   ]
  },
  {
   "cell_type": "code",
   "execution_count": null,
   "id": "434df9a5-898d-4d27-8ac5-b25c3ef0af34",
   "metadata": {},
   "outputs": [],
   "source": [
    "abserrs"
   ]
  },
  {
   "cell_type": "code",
   "execution_count": null,
   "id": "67483939-f6a9-457e-a7b3-338a0216d86b",
   "metadata": {},
   "outputs": [],
   "source": [
    "\n",
    "using PyPlot"
   ]
  },
  {
   "cell_type": "code",
   "execution_count": null,
   "id": "3558709f-157a-45e3-b8ad-a33565fd78b3",
   "metadata": {},
   "outputs": [],
   "source": [
    "loglog(hh, abserrs, marker=\".\", label = \"Numerical Experiment\")\n",
    "loglog(hh, hh.^2, linestyle = \"dashed\", label = L\"h^2\")\n",
    "grid(true)\n",
    "xlabel(\"h\")\n",
    "ylabel(\"absolute error\")\n",
    "title(\"Error of Trapezoidal Forumla\")\n",
    "legend();\n"
   ]
  },
  {
   "cell_type": "code",
   "execution_count": null,
   "id": "2105c3b2-1043-4cea-af69-ec98b5cb2aa2",
   "metadata": {},
   "outputs": [],
   "source": []
  }
 ],
 "metadata": {
  "kernelspec": {
   "display_name": "Julia 1.11.6",
   "language": "julia",
   "name": "julia-1.11"
  },
  "language_info": {
   "file_extension": ".jl",
   "mimetype": "application/julia",
   "name": "julia",
   "version": "1.11.6"
  }
 },
 "nbformat": 4,
 "nbformat_minor": 5
}
