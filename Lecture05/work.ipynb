{
 "cells": [
  {
   "cell_type": "code",
   "execution_count": null,
   "id": "94e9ab42-472a-4167-a784-9a2163498afe",
   "metadata": {},
   "outputs": [],
   "source": [
    "\"\"\"\n",
    "    myfib(n)\n",
    "\n",
    "Calculate Fibonacci number F_n using the recurrence relation\n",
    "F_1 = 1, F_2 = 1, and F_n = F_n-1 + F_n-2 for n > 2.\n",
    "\"\"\"\n",
    "function myfib(n)\n",
    "    fp = 1\n",
    "    fc = 1\n",
    "    if n == 1\n",
    "        return fc\n",
    "    end\n",
    "\n",
    "    fc = 1\n",
    "    if n == 2\n",
    "        return fc\n",
    "    end\n",
    "\n",
    "    for i = 3:n\n",
    "        fn = fc + fp\n",
    "        fp = fc\n",
    "        fc = fn\n",
    "    end\n",
    "\n",
    "    return fc\n",
    "end"
   ]
  },
  {
   "cell_type": "markdown",
   "id": "98e24380-55af-403e-beac-1e056ed010c7",
   "metadata": {},
   "source": [
    "?myfib"
   ]
  },
  {
   "cell_type": "code",
   "execution_count": null,
   "id": "6a0e5e39-1314-472b-9f4a-b087802e29a8",
   "metadata": {},
   "outputs": [],
   "source": [
    "myfib.(1:16)"
   ]
  },
  {
   "cell_type": "code",
   "execution_count": null,
   "id": "d7a644b2-0d63-428f-bcc9-e6e85b044e19",
   "metadata": {},
   "outputs": [],
   "source": [
    "\n",
    "function myfib1(n)\n",
    "    if n==1\n",
    "        return 1\n",
    "    elseif n == 2\n",
    "        return 1\n",
    "    end\n",
    "    \n",
    "    return myfib1(n-1) + myfib1(n-2)\n",
    "end\n"
   ]
  },
  {
   "cell_type": "code",
   "execution_count": null,
   "id": "1eca0eed-d172-46bf-b016-c00cd939e982",
   "metadata": {},
   "outputs": [],
   "source": [
    "myfib1.(1:10)"
   ]
  },
  {
   "cell_type": "code",
   "execution_count": null,
   "id": "2280b2ea-e2be-4133-bd0e-810848a60e4a",
   "metadata": {},
   "outputs": [],
   "source": [
    "@time myfib(50)\n"
   ]
  },
  {
   "cell_type": "code",
   "execution_count": null,
   "id": "5fd1c247-3106-48e2-bc60-d343531ec4e9",
   "metadata": {},
   "outputs": [],
   "source": [
    "#@time myfib1(50)"
   ]
  },
  {
   "cell_type": "code",
   "execution_count": null,
   "id": "45426cf9-10f7-4de4-a8b6-5fe077efc9e2",
   "metadata": {},
   "outputs": [],
   "source": [
    "\"\"\"\n",
    "    myfib2(n)\n",
    "\n",
    "Calculate Fibonacci number F_n using the recurrence relation\n",
    "F_1 = 1, F_2 = 1, and F_n = F_n-1 + F_n-2 for n > 2.\n",
    "\"\"\"\n",
    "function myfib2(n)\n",
    "    fp = 1\n",
    "    fc = 1\n",
    "    if n == 1\n",
    "        return fc\n",
    "    end\n",
    "\n",
    "    fc = 1\n",
    "    if n == 2\n",
    "        return fc\n",
    "    end\n",
    "\n",
    "    for i = 3:n\n",
    "       # fn = fc + fp\n",
    "        #fp = fc\n",
    "        #fc = fn\n",
    "        fc, fp = fc + fp, fc\n",
    "    end\n",
    "\n",
    "    return fc\n",
    "end"
   ]
  },
  {
   "cell_type": "code",
   "execution_count": null,
   "id": "3df1df23-64fc-482e-8497-e835e94efa9f",
   "metadata": {},
   "outputs": [],
   "source": [
    "myfib2.(1:10)"
   ]
  },
  {
   "cell_type": "code",
   "execution_count": null,
   "id": "42b9a4d5-5561-4fc4-ae51-7a460c5447ea",
   "metadata": {},
   "outputs": [],
   "source": []
  }
 ],
 "metadata": {
  "kernelspec": {
   "display_name": "Julia 1.11.6",
   "language": "julia",
   "name": "julia-1.11"
  },
  "language_info": {
   "file_extension": ".jl",
   "mimetype": "application/julia",
   "name": "julia",
   "version": "1.11.6"
  }
 },
 "nbformat": 4,
 "nbformat_minor": 5
}
