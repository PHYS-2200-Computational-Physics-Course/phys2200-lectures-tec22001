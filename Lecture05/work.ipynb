{
 "cells": [
  {
   "cell_type": "code",
   "execution_count": 44,
   "id": "94e9ab42-472a-4167-a784-9a2163498afe",
   "metadata": {},
   "outputs": [
    {
     "data": {
      "text/plain": [
       "myfib"
      ]
     },
     "execution_count": 44,
     "metadata": {},
     "output_type": "execute_result"
    }
   ],
   "source": [
    "\"\"\"\n",
    "    myfib(n)\n",
    "\n",
    "Calculate Fibonacci number F_n using the recurrence relation\n",
    "F_1 = 1, F_2 = 1, and F_n = F_n-1 + F_n-2 for n > 2.\n",
    "\"\"\"\n",
    "function myfib(n)\n",
    "    fp = 1\n",
    "    fc = 1\n",
    "    if n == 1\n",
    "        return fc\n",
    "    end\n",
    "\n",
    "    fc = 1\n",
    "    if n == 2\n",
    "        return fc\n",
    "    end\n",
    "\n",
    "    for i = 3:n\n",
    "        fn = fc + fp\n",
    "        fp = fc\n",
    "        fc = fn\n",
    "    end\n",
    "\n",
    "    return fc\n",
    "end"
   ]
  },
  {
   "cell_type": "markdown",
   "id": "98e24380-55af-403e-beac-1e056ed010c7",
   "metadata": {},
   "source": [
    "?myfib"
   ]
  },
  {
   "cell_type": "code",
   "execution_count": 46,
   "id": "6a0e5e39-1314-472b-9f4a-b087802e29a8",
   "metadata": {},
   "outputs": [
    {
     "data": {
      "text/plain": [
       "16-element Vector{Int64}:\n",
       "   1\n",
       "   1\n",
       "   2\n",
       "   3\n",
       "   5\n",
       "   8\n",
       "  13\n",
       "  21\n",
       "  34\n",
       "  55\n",
       "  89\n",
       " 144\n",
       " 233\n",
       " 377\n",
       " 610\n",
       " 987"
      ]
     },
     "execution_count": 46,
     "metadata": {},
     "output_type": "execute_result"
    }
   ],
   "source": [
    "myfib.(1:16)"
   ]
  },
  {
   "cell_type": "code",
   "execution_count": 66,
   "id": "d7a644b2-0d63-428f-bcc9-e6e85b044e19",
   "metadata": {},
   "outputs": [
    {
     "data": {
      "text/plain": [
       "myfib1 (generic function with 1 method)"
      ]
     },
     "execution_count": 66,
     "metadata": {},
     "output_type": "execute_result"
    }
   ],
   "source": [
    "\n",
    "function myfib1(n)\n",
    "    if n==1\n",
    "        return 1\n",
    "    elseif n == 2\n",
    "        return 1\n",
    "    end\n",
    "    \n",
    "    return myfib1(n-1) + myfib1(n-2)\n",
    "end\n"
   ]
  },
  {
   "cell_type": "code",
   "execution_count": 67,
   "id": "1eca0eed-d172-46bf-b016-c00cd939e982",
   "metadata": {},
   "outputs": [
    {
     "data": {
      "text/plain": [
       "10-element Vector{Int64}:\n",
       "  1\n",
       "  1\n",
       "  2\n",
       "  3\n",
       "  5\n",
       "  8\n",
       " 13\n",
       " 21\n",
       " 34\n",
       " 55"
      ]
     },
     "execution_count": 67,
     "metadata": {},
     "output_type": "execute_result"
    }
   ],
   "source": [
    "myfib1.(1:10)"
   ]
  },
  {
   "cell_type": "code",
   "execution_count": null,
   "id": "2280b2ea-e2be-4133-bd0e-810848a60e4a",
   "metadata": {},
   "outputs": [],
   "source": [
    "@time myfib(50)\n"
   ]
  },
  {
   "cell_type": "code",
   "execution_count": null,
   "id": "5fd1c247-3106-48e2-bc60-d343531ec4e9",
   "metadata": {},
   "outputs": [],
   "source": [
    "@time myfib1(50)"
   ]
  }
 ],
 "metadata": {
  "kernelspec": {
   "display_name": "Julia 1.11.6",
   "language": "julia",
   "name": "julia-1.11"
  },
  "language_info": {
   "file_extension": ".jl",
   "mimetype": "application/julia",
   "name": "julia",
   "version": "1.11.6"
  }
 },
 "nbformat": 4,
 "nbformat_minor": 5
}
