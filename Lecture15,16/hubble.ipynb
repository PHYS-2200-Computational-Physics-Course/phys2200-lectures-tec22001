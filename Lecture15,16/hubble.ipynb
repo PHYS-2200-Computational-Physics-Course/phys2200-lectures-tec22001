{
 "cells": [
  {
   "cell_type": "markdown",
   "id": "ff1eceba-1bdc-4419-8d2e-d422ad2198ff",
   "metadata": {},
   "source": [
    "\n",
    "# Hubble's law, Hubble constant, and the age of the Universe"
   ]
  },
  {
   "cell_type": "markdown",
   "id": "e594ac0a-fbb2-4fba-99bf-abc58a8fdec5",
   "metadata": {},
   "source": [
    "\n",
    "Hubble's law is the observation that galaxies are moving away from\n",
    "Earth at speeds proportional to their distances from Earth: \n",
    "\n",
    "$$v = H_0 \\, D .$$\n",
    "\n",
    "Here $H_0$ is the *Hubble constant*, $D$ is the distance to a\n",
    "galaxy, and $v$ is the speed of separation.\n",
    "\n",
    "Hubble constant is most frequently quoted in km/s/Mpc, thus giving\n",
    "the speed in km/s of a galaxy 1 megaparsec away\n",
    "(1Mpc = $3.09 \\times 10^{19}$ km; the parsec, pc, is a unit of length \n",
    "that is used to measure the large distances to astronomical objects outside the Solar System).\n",
    "However, the SI unit of $H_0$ is\n",
    "simply $s^{-1}$. The reciprocal of $H_0$ is known as the\n",
    "*Hubble time*. The Hubble time is the age the Universe would\n",
    "have had if the expansion had been uniform in time; it is different from the\n",
    "real age of the Universe because the real expansion is not\n",
    "uniform. However, the Hubble time and the age of the Universe are\n",
    "related by a dimensionless factor which depends on the mass-energy\n",
    "content of the Universe; it assumed to be close to 0.96."
   ]
  },
  {
   "cell_type": "markdown",
   "id": "7cb23af7-3dd2-428d-bf99-82277738648a",
   "metadata": {},
   "source": [
    "\n",
    "Here we determine the Hubble constant from\n",
    "the experimental data on the *distance modulus* and *redshift* of supernovae."
   ]
  },
  {
   "cell_type": "markdown",
   "id": "00aab581-e6a9-4d71-8013-3d40cbd313a8",
   "metadata": {},
   "source": [
    "\n",
    "Load the required packages:"
   ]
  },
  {
   "cell_type": "code",
   "execution_count": 1,
   "id": "e587f41d",
   "metadata": {},
   "outputs": [],
   "source": [
    "\n",
    "using CSV\n",
    "using DataFrames\n",
    "using PyPlot"
   ]
  },
  {
   "cell_type": "markdown",
   "id": "f00e2dea-2bfb-487b-b9f4-de68a6a198be",
   "metadata": {},
   "source": [
    "\n",
    "The URL of the database of the measurements:"
   ]
  },
  {
   "cell_type": "code",
   "execution_count": 2,
   "id": "34035a31-a227-471d-96f7-115c53af9942",
   "metadata": {},
   "outputs": [
    {
     "data": {
      "text/plain": [
       "\"https://vizier.u-strasbg.fr/viz-bin/asu-txt?-source=J/ApJ/716/712/tableb2&-out=SN&-out=zCMB&-out=mu\""
      ]
     },
     "execution_count": 2,
     "metadata": {},
     "output_type": "execute_result"
    }
   ],
   "source": [
    "\n",
    "url = \"https://vizier.u-strasbg.fr/viz-bin/asu-txt?-source=J/ApJ/716/712/tableb2&-out=SN&-out=zCMB&-out=mu\""
   ]
  },
  {
   "cell_type": "markdown",
   "id": "08d1e239-103d-405f-8666-dbb4f2f21794",
   "metadata": {},
   "source": [
    "\n",
    "Download the data into a temporary file on the local machine:"
   ]
  },
  {
   "cell_type": "code",
   "execution_count": 3,
   "id": "a0eafa03-3a5f-4165-8c26-49bc38af8360",
   "metadata": {},
   "outputs": [
    {
     "ename": "LoadError",
     "evalue": "RequestError: SSL connection timeout while requesting https://vizier.u-strasbg.fr/viz-bin/asu-txt?-source=J/ApJ/716/712/tableb2&-out=SN&-out=zCMB&-out=mu",
     "output_type": "error",
     "traceback": [
      "RequestError: SSL connection timeout while requesting https://vizier.u-strasbg.fr/viz-bin/asu-txt?-source=J/ApJ/716/712/tableb2&-out=SN&-out=zCMB&-out=mu",
      "",
      "Stacktrace:",
      "  [1] \u001b[0m\u001b[1m(::Downloads.var\"#9#19\"{IOStream, Base.DevNull, Nothing, Vector{Pair{String, String}}, Float64, Nothing, Bool, Nothing, Bool, Nothing, String, Bool, Bool})\u001b[22m\u001b[0m\u001b[1m(\u001b[22m\u001b[90measy\u001b[39m::\u001b[0mDownloads.Curl.Easy\u001b[0m\u001b[1m)\u001b[22m",
      "\u001b[90m    @\u001b[39m \u001b[35mDownloads\u001b[39m \u001b[90m~/.julia/juliaup/julia-1.11.6+0.x64.linux.gnu/share/julia/stdlib/v1.11/Downloads/src/\u001b[39m\u001b[90m\u001b[4mDownloads.jl:452\u001b[24m\u001b[39m",
      "  [2] \u001b[0m\u001b[1mwith_handle\u001b[22m\u001b[0m\u001b[1m(\u001b[22m\u001b[90mf\u001b[39m::\u001b[0mDownloads.var\"#9#19\"\u001b[90m{IOStream, Base.DevNull, Nothing, Vector{Pair{String, String}}, Float64, Nothing, Bool, Nothing, Bool, Nothing, String, Bool, Bool}\u001b[39m, \u001b[90mhandle\u001b[39m::\u001b[0mDownloads.Curl.Easy\u001b[0m\u001b[1m)\u001b[22m",
      "\u001b[90m    @\u001b[39m \u001b[35mDownloads.Curl\u001b[39m \u001b[90m~/.julia/juliaup/julia-1.11.6+0.x64.linux.gnu/share/julia/stdlib/v1.11/Downloads/src/Curl/\u001b[39m\u001b[90m\u001b[4mCurl.jl:105\u001b[24m\u001b[39m",
      "  [3] \u001b[0m\u001b[1m#8\u001b[22m",
      "\u001b[90m    @\u001b[39m \u001b[90m~/.julia/juliaup/julia-1.11.6+0.x64.linux.gnu/share/julia/stdlib/v1.11/Downloads/src/\u001b[39m\u001b[90m\u001b[4mDownloads.jl:363\u001b[24m\u001b[39m\u001b[90m [inlined]\u001b[39m",
      "  [4] \u001b[0m\u001b[1marg_write\u001b[22m\u001b[0m\u001b[1m(\u001b[22m\u001b[90mf\u001b[39m::\u001b[0mDownloads.var\"#8#18\"\u001b[90m{Base.DevNull, Nothing, Vector{Pair{String, String}}, Float64, Nothing, Bool, Nothing, Bool, Nothing, String, Bool, Bool}\u001b[39m, \u001b[90marg\u001b[39m::\u001b[0mIOStream\u001b[0m\u001b[1m)\u001b[22m",
      "\u001b[90m    @\u001b[39m \u001b[36mArgTools\u001b[39m \u001b[90m~/.julia/juliaup/julia-1.11.6+0.x64.linux.gnu/share/julia/stdlib/v1.11/ArgTools/src/\u001b[39m\u001b[90m\u001b[4mArgTools.jl:134\u001b[24m\u001b[39m",
      "  [5] \u001b[0m\u001b[1m#7\u001b[22m",
      "\u001b[90m    @\u001b[39m \u001b[90m~/.julia/juliaup/julia-1.11.6+0.x64.linux.gnu/share/julia/stdlib/v1.11/Downloads/src/\u001b[39m\u001b[90m\u001b[4mDownloads.jl:362\u001b[24m\u001b[39m\u001b[90m [inlined]\u001b[39m",
      "  [6] \u001b[0m\u001b[1marg_read\u001b[22m",
      "\u001b[90m    @\u001b[39m \u001b[90m~/.julia/juliaup/julia-1.11.6+0.x64.linux.gnu/share/julia/stdlib/v1.11/ArgTools/src/\u001b[39m\u001b[90m\u001b[4mArgTools.jl:76\u001b[24m\u001b[39m\u001b[90m [inlined]\u001b[39m",
      "  [7] \u001b[0m\u001b[1mrequest\u001b[22m\u001b[0m\u001b[1m(\u001b[22m\u001b[90murl\u001b[39m::\u001b[0mString; \u001b[90minput\u001b[39m::\u001b[0mNothing, \u001b[90moutput\u001b[39m::\u001b[0mIOStream, \u001b[90mmethod\u001b[39m::\u001b[0mNothing, \u001b[90mheaders\u001b[39m::\u001b[0mVector\u001b[90m{Pair{String, String}}\u001b[39m, \u001b[90mtimeout\u001b[39m::\u001b[0mFloat64, \u001b[90mprogress\u001b[39m::\u001b[0mNothing, \u001b[90mverbose\u001b[39m::\u001b[0mBool, \u001b[90mdebug\u001b[39m::\u001b[0mNothing, \u001b[90mthrow\u001b[39m::\u001b[0mBool, \u001b[90mdownloader\u001b[39m::\u001b[0mNothing, \u001b[90minterrupt\u001b[39m::\u001b[0mNothing\u001b[0m\u001b[1m)\u001b[22m",
      "\u001b[90m    @\u001b[39m \u001b[35mDownloads\u001b[39m \u001b[90m~/.julia/juliaup/julia-1.11.6+0.x64.linux.gnu/share/julia/stdlib/v1.11/Downloads/src/\u001b[39m\u001b[90m\u001b[4mDownloads.jl:361\u001b[24m\u001b[39m",
      "  [8] \u001b[0m\u001b[1mrequest\u001b[22m",
      "\u001b[90m    @\u001b[39m \u001b[90m~/.julia/juliaup/julia-1.11.6+0.x64.linux.gnu/share/julia/stdlib/v1.11/Downloads/src/\u001b[39m\u001b[90m\u001b[4mDownloads.jl:328\u001b[24m\u001b[39m\u001b[90m [inlined]\u001b[39m",
      "  [9] \u001b[0m\u001b[1m#3\u001b[22m",
      "\u001b[90m    @\u001b[39m \u001b[90m~/.julia/juliaup/julia-1.11.6+0.x64.linux.gnu/share/julia/stdlib/v1.11/Downloads/src/\u001b[39m\u001b[90m\u001b[4mDownloads.jl:259\u001b[24m\u001b[39m\u001b[90m [inlined]\u001b[39m",
      " [10] \u001b[0m\u001b[1marg_write\u001b[22m\u001b[0m\u001b[1m(\u001b[22m\u001b[90mf\u001b[39m::\u001b[0mDownloads.var\"#3#4\"\u001b[90m{Nothing, Vector{Pair{String, String}}, Float64, Nothing, Bool, Nothing, Nothing, String}\u001b[39m, \u001b[90marg\u001b[39m::\u001b[0mNothing\u001b[0m\u001b[1m)\u001b[22m",
      "\u001b[90m    @\u001b[39m \u001b[36mArgTools\u001b[39m \u001b[90m~/.julia/juliaup/julia-1.11.6+0.x64.linux.gnu/share/julia/stdlib/v1.11/ArgTools/src/\u001b[39m\u001b[90m\u001b[4mArgTools.jl:123\u001b[24m\u001b[39m",
      " [11] \u001b[0m\u001b[1m#download#2\u001b[22m",
      "\u001b[90m    @\u001b[39m \u001b[90m~/.julia/juliaup/julia-1.11.6+0.x64.linux.gnu/share/julia/stdlib/v1.11/Downloads/src/\u001b[39m\u001b[90m\u001b[4mDownloads.jl:258\u001b[24m\u001b[39m\u001b[90m [inlined]\u001b[39m",
      " [12] \u001b[0m\u001b[1mdownload\u001b[22m\u001b[0m\u001b[1m(\u001b[22m\u001b[90murl\u001b[39m::\u001b[0mString, \u001b[90moutput\u001b[39m::\u001b[0mNothing\u001b[0m\u001b[1m)\u001b[22m",
      "\u001b[90m    @\u001b[39m \u001b[35mDownloads\u001b[39m \u001b[90m~/.julia/juliaup/julia-1.11.6+0.x64.linux.gnu/share/julia/stdlib/v1.11/Downloads/src/\u001b[39m\u001b[90m\u001b[4mDownloads.jl:247\u001b[24m\u001b[39m",
      " [13] \u001b[0m\u001b[1m#invokelatest#2\u001b[22m",
      "\u001b[90m    @\u001b[39m \u001b[90m./\u001b[39m\u001b[90m\u001b[4messentials.jl:1055\u001b[24m\u001b[39m\u001b[90m [inlined]\u001b[39m",
      " [14] \u001b[0m\u001b[1minvokelatest\u001b[22m",
      "\u001b[90m    @\u001b[39m \u001b[90m./\u001b[39m\u001b[90m\u001b[4messentials.jl:1052\u001b[24m\u001b[39m\u001b[90m [inlined]\u001b[39m",
      " [15] \u001b[0m\u001b[1mdo_download\u001b[22m\u001b[0m\u001b[1m(\u001b[22m\u001b[90murl\u001b[39m::\u001b[0mString, \u001b[90mpath\u001b[39m::\u001b[0mNothing\u001b[0m\u001b[1m)\u001b[22m",
      "\u001b[90m    @\u001b[39m \u001b[90mBase\u001b[39m \u001b[90m./\u001b[39m\u001b[90m\u001b[4mdownload.jl:24\u001b[24m\u001b[39m",
      " [16] \u001b[0m\u001b[1mdownload\u001b[22m\u001b[0m\u001b[1m(\u001b[22m\u001b[90murl\u001b[39m::\u001b[0mString\u001b[0m\u001b[1m)\u001b[22m",
      "\u001b[90m    @\u001b[39m \u001b[90mBase\u001b[39m \u001b[90m./\u001b[39m\u001b[90m\u001b[4mdownload.jl:20\u001b[24m\u001b[39m",
      " [17] top-level scope",
      "\u001b[90m    @\u001b[39m \u001b[90m\u001b[4mIn[3]:1\u001b[24m\u001b[39m"
     ]
    }
   ],
   "source": [
    "\n",
    "catalog = download(url);"
   ]
  },
  {
   "cell_type": "markdown",
   "id": "b883888a-baf4-4205-a4ba-b6362d70a782",
   "metadata": {},
   "source": [
    "\n",
    "Read the data from a disk into a DataFrame, skipping 38 lines of the header and giving the new names to the columns - `name`, `redshift`, and `modulus` for the name of the star, its red shift, and its distance modulus."
   ]
  },
  {
   "cell_type": "code",
   "execution_count": 4,
   "id": "f3920b8b-63bc-4ca5-984b-87f4730be9db",
   "metadata": {},
   "outputs": [
    {
     "ename": "LoadError",
     "evalue": "UndefVarError: `catalog` not defined in `Main`\nSuggestion: check for spelling errors or missing imports.",
     "output_type": "error",
     "traceback": [
      "UndefVarError: `catalog` not defined in `Main`\nSuggestion: check for spelling errors or missing imports.",
      "",
      "Stacktrace:",
      " [1] top-level scope",
      "\u001b[90m   @\u001b[39m \u001b[90m\u001b[4mIn[4]:2\u001b[24m\u001b[39m"
     ]
    }
   ],
   "source": [
    "\n",
    "df = CSV.read(catalog, DataFrame, skipto=38, delim=' ', ignorerepeated=true,\n",
    "              types=[String, Float64, Float64], silencewarnings=true,\n",
    "              header=[\"name\", \"redshift\", \"modulus\"],)"
   ]
  },
  {
   "cell_type": "markdown",
   "id": "86d139d9-2550-49d3-bbe6-e183f97338d6",
   "metadata": {},
   "source": [
    "\n",
    "Drop records with missing data:"
   ]
  },
  {
   "cell_type": "code",
   "execution_count": 5,
   "id": "88ad6e12-2c1d-4afb-9093-40daa28d34a9",
   "metadata": {},
   "outputs": [
    {
     "ename": "LoadError",
     "evalue": "UndefVarError: `df` not defined in `Main`\nSuggestion: check for spelling errors or missing imports.",
     "output_type": "error",
     "traceback": [
      "UndefVarError: `df` not defined in `Main`\nSuggestion: check for spelling errors or missing imports.",
      "",
      "Stacktrace:",
      " [1] top-level scope",
      "\u001b[90m   @\u001b[39m \u001b[90m\u001b[4mIn[5]:2\u001b[24m\u001b[39m"
     ]
    }
   ],
   "source": [
    "\n",
    "dropmissing!(df)"
   ]
  },
  {
   "cell_type": "markdown",
   "id": "42239ae8-bc98-4a78-9713-b27474910868",
   "metadata": {},
   "source": [
    "\n",
    "he *distance modulus* is a way of expressing distances that is often used in astronomy. \n",
    "It is a logarithmic measure of the distance to an astronomical object \n",
    "calculated from its apparent brightness and absolute brightness. The distance modulus, \n",
    "$\\mu$, is related to the object's distance through the formula \n",
    "\n",
    "$$\\mu = 5 \\log_{10}(D) + 25,$$ \n",
    "\n",
    "where $D$ is the distance in Megaparsecs."
   ]
  },
  {
   "cell_type": "markdown",
   "id": "07bc12c4-d017-4737-843f-2e1c00dd75b4",
   "metadata": {},
   "source": [
    "\n",
    "Let's define a helper function, `dist`, that given the modulus, calculates the distance in Mpc:"
   ]
  },
  {
   "cell_type": "code",
   "execution_count": 6,
   "id": "8bc3c968-d286-4537-8d62-66bc9a2ee69f",
   "metadata": {},
   "outputs": [
    {
     "data": {
      "text/plain": [
       "dist (generic function with 1 method)"
      ]
     },
     "execution_count": 6,
     "metadata": {},
     "output_type": "execute_result"
    }
   ],
   "source": [
    "\n",
    "dist(modulus) = 10.0 ^ (modulus / 5 - 5)"
   ]
  },
  {
   "cell_type": "markdown",
   "id": "d2e42f6b-beaa-448f-8079-316bec1cd976",
   "metadata": {},
   "source": [
    "\n",
    "The main causes of electromagnetic redshift in astronomy and cosmology are the relative motions of radiation sources, \n",
    "which give rise to the *relativistic Doppler effect*, and the gravitational potentials, which gravitationally redshift escaping radiation. \n",
    "\n",
    "$$z \\equiv \\frac{\\lambda_{\\mathrm{ob}} - \\lambda_{\\mathrm{em}} }{\\lambda_{\\mathrm{em}}},$$\n",
    "\n",
    "where $\\lambda_{\\mathrm{em}}$ the wavelength of emitted radiation and $\\lambda_{\\mathrm{ob}}$ is its observed wavelength."
   ]
  },
  {
   "cell_type": "markdown",
   "id": "4598e7eb-e948-496a-b6f5-9036c560c3e3",
   "metadata": {},
   "source": [
    "\n",
    "The general formula for $z$ is rather complicated. However, for small redshifts, $z \\ll 1$, it simplifies to\n",
    "\n",
    "$$z \\approx \\frac{v}{c} ,$$\n",
    "\n",
    "where $v$ is the speed of the star, and $c$ is the speed of light. "
   ]
  },
  {
   "cell_type": "markdown",
   "id": "69175961-88f3-4551-a79d-8c0bbe784fa8",
   "metadata": {},
   "source": [
    "\n",
    "$$z = \\frac{v}{c} = \\frac{H_0}{c}D .$$\n",
    "\n",
    "The slope of the graph $z(D)$ gives the Hubble constant diveded by the speed of light."
   ]
  },
  {
   "cell_type": "markdown",
   "id": "d1996bb5-d03f-42c9-b662-6484461e2de1",
   "metadata": {},
   "source": [
    "\n",
    "Let's keep only the observational records where $z < 0.04$. "
   ]
  },
  {
   "cell_type": "code",
   "execution_count": 7,
   "id": "fbdc5131-437d-4e54-9dd0-bdc0a3cd5587",
   "metadata": {},
   "outputs": [
    {
     "ename": "LoadError",
     "evalue": "UndefVarError: `df` not defined in `Main`\nSuggestion: check for spelling errors or missing imports.",
     "output_type": "error",
     "traceback": [
      "UndefVarError: `df` not defined in `Main`\nSuggestion: check for spelling errors or missing imports.",
      "",
      "Stacktrace:",
      " [1] top-level scope",
      "\u001b[90m   @\u001b[39m \u001b[90m\u001b[4mIn[7]:1\u001b[24m\u001b[39m"
     ]
    }
   ],
   "source": [
    "\n",
    "filter!(row -> row.redshift < 0.04, df);"
   ]
  },
  {
   "cell_type": "markdown",
   "id": "aeb4fe6d-7514-43bb-8bd0-a78278ee1aca",
   "metadata": {},
   "source": [
    "\n",
    "Sort the observations by distance:"
   ]
  },
  {
   "cell_type": "code",
   "execution_count": 8,
   "id": "1a0948fa-4a4e-47dd-842a-ce9e302eb72a",
   "metadata": {},
   "outputs": [
    {
     "ename": "LoadError",
     "evalue": "UndefVarError: `df` not defined in `Main`\nSuggestion: check for spelling errors or missing imports.",
     "output_type": "error",
     "traceback": [
      "UndefVarError: `df` not defined in `Main`\nSuggestion: check for spelling errors or missing imports.",
      "",
      "Stacktrace:",
      " [1] top-level scope",
      "\u001b[90m   @\u001b[39m \u001b[90m\u001b[4mIn[8]:1\u001b[24m\u001b[39m"
     ]
    }
   ],
   "source": [
    "\n",
    "sort!(df, \"modulus\");"
   ]
  },
  {
   "cell_type": "markdown",
   "id": "577d9aac-410b-48db-ba37-e5988b7e957c",
   "metadata": {},
   "source": [
    "\n",
    "Calculate distances in Mpc:"
   ]
  },
  {
   "cell_type": "code",
   "execution_count": 9,
   "id": "cec917f6-a00c-4c53-901b-7bd1bc3401cf",
   "metadata": {},
   "outputs": [
    {
     "ename": "LoadError",
     "evalue": "UndefVarError: `df` not defined in `Main`\nSuggestion: check for spelling errors or missing imports.",
     "output_type": "error",
     "traceback": [
      "UndefVarError: `df` not defined in `Main`\nSuggestion: check for spelling errors or missing imports.",
      "",
      "Stacktrace:",
      " [1] top-level scope",
      "\u001b[90m   @\u001b[39m \u001b[90m\u001b[4mIn[9]:1\u001b[24m\u001b[39m"
     ]
    }
   ],
   "source": [
    "\n",
    "distances = dist.(df.modulus);"
   ]
  },
  {
   "cell_type": "markdown",
   "id": "8a9b2020-71ea-4600-9d36-ee33bd5d255a",
   "metadata": {},
   "source": [
    "\n",
    "Let's plot the **redshift vs distance** to the star:"
   ]
  },
  {
   "cell_type": "code",
   "execution_count": 10,
   "id": "da9e9bfb-1cf4-4db2-9d07-37fe69adcd1f",
   "metadata": {},
   "outputs": [
    {
     "ename": "LoadError",
     "evalue": "UndefVarError: `distances` not defined in `Main`\nSuggestion: check for spelling errors or missing imports.",
     "output_type": "error",
     "traceback": [
      "UndefVarError: `distances` not defined in `Main`\nSuggestion: check for spelling errors or missing imports.",
      "",
      "Stacktrace:",
      " [1] top-level scope",
      "\u001b[90m   @\u001b[39m \u001b[90m\u001b[4mIn[10]:2\u001b[24m\u001b[39m"
     ]
    }
   ],
   "source": [
    "\n",
    "plot(distances, df.redshift, \".\", label=\"measurements\")\n",
    "grid(true)\n",
    "legend()\n",
    "ylabel(\"Red Shift\")\n",
    "xlabel(\"Distance (Mpc)\");"
   ]
  },
  {
   "cell_type": "markdown",
   "id": "dd7f0ab1-6290-47ab-993e-f1cf8aef9876",
   "metadata": {},
   "source": [
    "\n",
    "We observe a couple of outliers but the general dependence is consistent with the Hubble law, distance\n",
    "is proportinal to redshift."
   ]
  },
  {
   "cell_type": "markdown",
   "id": "ea0214ec-f3d1-4fe0-a40a-d5d2c22b04ec",
   "metadata": {},
   "source": [
    "\n",
    "We use Least Squares Fit to find the parameters of the best linear regression."
   ]
  },
  {
   "cell_type": "code",
   "execution_count": 11,
   "id": "f78f80a9",
   "metadata": {},
   "outputs": [
    {
     "data": {
      "text/plain": [
       "linear_regression"
      ]
     },
     "execution_count": 11,
     "metadata": {},
     "output_type": "execute_result"
    }
   ],
   "source": [
    "\n",
    "\"\"\"\n",
    "   alpha, beta, sigma = linear_regression(x, y)\n",
    "\n",
    "Least square linear regression fit y = alpha + beta * x\n",
    "Sigma is standard deviation for beta\n",
    "\"\"\"\n",
    "function linear_regression(x, y)\n",
    "    n = length(x)\n",
    "    xbar = sum(x)/n\n",
    "    ybar = sum(y)/n\n",
    "    denom = sum((x .- xbar).^2)\n",
    "    beta = sum((x .- xbar).*(y .- ybar))/denom\n",
    "    alpha = ybar - beta*xbar\n",
    "    sigma = sqrt(sum((y .- alpha .- beta*x).^2)/((n - 2)*denom))\n",
    "    return alpha, beta, sigma\n",
    "end"
   ]
  },
  {
   "cell_type": "code",
   "execution_count": 12,
   "id": "2df7f2f5",
   "metadata": {},
   "outputs": [
    {
     "ename": "LoadError",
     "evalue": "UndefVarError: `distances` not defined in `Main`\nSuggestion: check for spelling errors or missing imports.",
     "output_type": "error",
     "traceback": [
      "UndefVarError: `distances` not defined in `Main`\nSuggestion: check for spelling errors or missing imports.",
      "",
      "Stacktrace:",
      " [1] top-level scope",
      "\u001b[90m   @\u001b[39m \u001b[90m\u001b[4mIn[12]:2\u001b[24m\u001b[39m"
     ]
    }
   ],
   "source": [
    "\n",
    "alpha, beta, sigma = linear_regression(distances, df.redshift)"
   ]
  },
  {
   "cell_type": "markdown",
   "id": "f6e9e8b5-ad05-452d-909e-870a75163ede",
   "metadata": {},
   "source": [
    "\n",
    "Plot of the result of the fit:"
   ]
  },
  {
   "cell_type": "code",
   "execution_count": 13,
   "id": "a014e4a2",
   "metadata": {},
   "outputs": [
    {
     "ename": "LoadError",
     "evalue": "UndefVarError: `distances` not defined in `Main`\nSuggestion: check for spelling errors or missing imports.",
     "output_type": "error",
     "traceback": [
      "UndefVarError: `distances` not defined in `Main`\nSuggestion: check for spelling errors or missing imports.",
      "",
      "Stacktrace:",
      " [1] top-level scope",
      "\u001b[90m   @\u001b[39m \u001b[90m\u001b[4mIn[13]:2\u001b[24m\u001b[39m"
     ]
    }
   ],
   "source": [
    "\n",
    "plot(distances, df.redshift, \".\", label=\"measurements\")\n",
    "plot(distances, alpha .+ beta*distances, label=\"LSq linear fit\")\n",
    "grid(true)\n",
    "legend()\n",
    "ylabel(\"Red Shift\")\n",
    "xlabel(\"Distance (Mpc)\");"
   ]
  },
  {
   "cell_type": "markdown",
   "id": "20a97a0b",
   "metadata": {},
   "source": [
    "\n",
    "Hubble constant, in km/sec/Mpc:"
   ]
  },
  {
   "cell_type": "code",
   "execution_count": 14,
   "id": "87897f63-e7d9-4a03-b86a-550d1c41341e",
   "metadata": {},
   "outputs": [
    {
     "ename": "LoadError",
     "evalue": "UndefVarError: `beta` not defined in `Main`\nSuggestion: check for spelling errors or missing imports.",
     "output_type": "error",
     "traceback": [
      "UndefVarError: `beta` not defined in `Main`\nSuggestion: check for spelling errors or missing imports.",
      "",
      "Stacktrace:",
      " [1] top-level scope",
      "\u001b[90m   @\u001b[39m \u001b[90m\u001b[4mIn[14]:3\u001b[24m\u001b[39m"
     ]
    }
   ],
   "source": [
    "\n",
    "const c = 300000.0  # speed of light, km/sec\n",
    "H0 = c * beta\n",
    "round(H0, digits=3)"
   ]
  },
  {
   "cell_type": "markdown",
   "id": "df4c68a5-e3e6-4e06-aa15-49c12e436363",
   "metadata": {},
   "source": [
    "\n",
    "Standard deviation, in km/sec/Mpc:"
   ]
  },
  {
   "cell_type": "code",
   "execution_count": 15,
   "id": "d219b933-4434-4caf-9b06-93e39d8dd084",
   "metadata": {},
   "outputs": [
    {
     "ename": "LoadError",
     "evalue": "UndefVarError: `sigma` not defined in `Main`\nSuggestion: check for spelling errors or missing imports.",
     "output_type": "error",
     "traceback": [
      "UndefVarError: `sigma` not defined in `Main`\nSuggestion: check for spelling errors or missing imports.",
      "",
      "Stacktrace:",
      " [1] top-level scope",
      "\u001b[90m   @\u001b[39m \u001b[90m\u001b[4mIn[15]:2\u001b[24m\u001b[39m"
     ]
    }
   ],
   "source": [
    "\n",
    "dH0 = c * sigma"
   ]
  },
  {
   "cell_type": "markdown",
   "id": "8f97ff2d",
   "metadata": {},
   "source": [
    "\n",
    "Hubble constant in 1/sec:"
   ]
  },
  {
   "cell_type": "code",
   "execution_count": 16,
   "id": "4969fe44",
   "metadata": {},
   "outputs": [
    {
     "ename": "LoadError",
     "evalue": "UndefVarError: `H0` not defined in `Main`\nSuggestion: check for spelling errors or missing imports.",
     "output_type": "error",
     "traceback": [
      "UndefVarError: `H0` not defined in `Main`\nSuggestion: check for spelling errors or missing imports.",
      "",
      "Stacktrace:",
      " [1] top-level scope",
      "\u001b[90m   @\u001b[39m \u001b[90m\u001b[4mIn[16]:3\u001b[24m\u001b[39m"
     ]
    }
   ],
   "source": [
    "\n",
    "const mpc = 3.09e19     # 1 megaparsec in km\n",
    "h0 = H0 / mpc\n",
    "round(h0, sigdigits=3)"
   ]
  },
  {
   "cell_type": "markdown",
   "id": "a3e96034",
   "metadata": {},
   "source": [
    "\n",
    "Hubble time in seconds:"
   ]
  },
  {
   "cell_type": "code",
   "execution_count": 17,
   "id": "9096b02c",
   "metadata": {},
   "outputs": [
    {
     "ename": "LoadError",
     "evalue": "UndefVarError: `h0` not defined in `Main`\nSuggestion: check for spelling errors or missing imports.",
     "output_type": "error",
     "traceback": [
      "UndefVarError: `h0` not defined in `Main`\nSuggestion: check for spelling errors or missing imports.",
      "",
      "Stacktrace:",
      " [1] top-level scope",
      "\u001b[90m   @\u001b[39m \u001b[90m\u001b[4mIn[17]:2\u001b[24m\u001b[39m"
     ]
    }
   ],
   "source": [
    "\n",
    "Th = 1 / h0\n",
    "round(Th, sigdigits=3)"
   ]
  },
  {
   "cell_type": "markdown",
   "id": "e41e3f0c",
   "metadata": {},
   "source": [
    "\n",
    "Hubble time in years:"
   ]
  },
  {
   "cell_type": "code",
   "execution_count": 18,
   "id": "43508d83",
   "metadata": {},
   "outputs": [
    {
     "ename": "LoadError",
     "evalue": "UndefVarError: `Th` not defined in `Main`\nSuggestion: check for spelling errors or missing imports.",
     "output_type": "error",
     "traceback": [
      "UndefVarError: `Th` not defined in `Main`\nSuggestion: check for spelling errors or missing imports.",
      "",
      "Stacktrace:",
      " [1] top-level scope",
      "\u001b[90m   @\u001b[39m \u001b[90m\u001b[4mIn[18]:2\u001b[24m\u001b[39m"
     ]
    }
   ],
   "source": [
    "\n",
    "round(Th/(60*60*24*365), sigdigits=2)"
   ]
  },
  {
   "cell_type": "markdown",
   "id": "72881370-bc97-4ee2-b198-35223b2c2460",
   "metadata": {},
   "source": [
    "\n",
    "Compare your values of the Hubble constant and the Hubble time with with the ones found in the literature:"
   ]
  },
  {
   "cell_type": "markdown",
   "id": "58484f4b-9f91-457a-b8a3-e0c97b18f24f",
   "metadata": {},
   "source": []
  }
 ],
 "metadata": {
  "kernelspec": {
   "display_name": "Julia 1.11.6",
   "language": "julia",
   "name": "julia-1.11"
  },
  "language_info": {
   "file_extension": ".jl",
   "mimetype": "application/julia",
   "name": "julia",
   "version": "1.11.6"
  }
 },
 "nbformat": 4,
 "nbformat_minor": 5
}
