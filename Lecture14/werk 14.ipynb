{
 "cells": [
  {
   "cell_type": "markdown",
   "id": "cc5ed36c-03c8-48e2-b683-d93df4f72aa5",
   "metadata": {},
   "source": [
    "# Double Pendelum"
   ]
  },
  {
   "cell_type": "code",
   "execution_count": 2,
   "id": "1358905b-d077-49bf-bf3f-2d5206c25404",
   "metadata": {},
   "outputs": [],
   "source": [
    "\n",
    "#] add OrdinaryDiffEqTsit5"
   ]
  },
  {
   "cell_type": "code",
   "execution_count": 6,
   "id": "84483d88-d2d9-430e-8e2f-c6d1e04e4138",
   "metadata": {},
   "outputs": [],
   "source": [
    "#] add Printf"
   ]
  },
  {
   "cell_type": "code",
   "execution_count": 7,
   "id": "47c3fcb8-56cd-4bf3-a78d-9655d5fa5c59",
   "metadata": {},
   "outputs": [],
   "source": [
    "#] add Colors"
   ]
  },
  {
   "cell_type": "code",
   "execution_count": 7,
   "id": "2942acfc-5ac7-40a6-977e-450aa5b58e72",
   "metadata": {},
   "outputs": [],
   "source": [
    "using OrdinaryDiffEqTsit5\n",
    "using Printf\n",
    "using PyPlot\n",
    "using Colors"
   ]
  },
  {
   "cell_type": "code",
   "execution_count": 8,
   "id": "c64efdf5-75ca-48af-952c-a50da9ac7eb3",
   "metadata": {},
   "outputs": [
    {
     "data": {
      "text/plain": [
       "doublependulum! (generic function with 1 method)"
      ]
     },
     "execution_count": 8,
     "metadata": {},
     "output_type": "execute_result"
    }
   ],
   "source": [
    "\"\"\"\n",
    "\n",
    "\"\"\"\n",
    "\n",
    "function doublependulum!(dudt, u, p, t)\n",
    "    # unpack variables and parameters\n",
    "    theta1 = u[1]\n",
    "    theta2 = u[2]\n",
    "    dtheta1dt = u[3]\n",
    "    dtheta2dt = u[4]\n",
    "    κ, ν = p\n",
    "    \n",
    "    sn, cs = sincos(theta1 - theta2)\n",
    "    a1 = κ*cs\n",
    "    a2 = ν*cs\n",
    "    γ = 1/(1.0 - a1*a2)\n",
    "    \n",
    "    f1 = -κ*sn*dtheta2dt^2 - sin(theta1)\n",
    "    f2 =  ν*(sn*dtheta1dt^2 - ν*sin(theta2))\n",
    "\n",
    "    dudt[1] = u[3]\n",
    "    dudt[2] = u[4]\n",
    "    dudt[3] = γ*(f1 - a1*f2)\n",
    "    dudt[4] = γ*(f2 - a2*f1)\n",
    "    \n",
    "    return nothing\n",
    "end\n"
   ]
  },
  {
   "cell_type": "code",
   "execution_count": 9,
   "id": "5efe77e9-7036-48cb-93bc-e2ccec10aa72",
   "metadata": {},
   "outputs": [],
   "source": [
    "\n",
    "l1 = 1.0  # length of pendulum1\n",
    "l2 = 1.0  # length of pendulum2\n",
    "m1 = 1.0  # mass of pendulum1\n",
    "m2 = 1.0; # mass of pendulum2"
   ]
  },
  {
   "cell_type": "code",
   "execution_count": 10,
   "id": "04716c41-ecb8-44f3-af5d-5c3173f07cd9",
   "metadata": {},
   "outputs": [],
   "source": [
    "\n",
    "tspan = (0.0, 50.0)\n",
    "initial = [pi, pi/100, 0.0, 0.0];"
   ]
  },
  {
   "cell_type": "code",
   "execution_count": 11,
   "id": "0de466a8-f42c-4e44-8d97-ba22b70c3612",
   "metadata": {},
   "outputs": [],
   "source": [
    "ν = l1/l2\n",
    "κ = 1 / ν * m2 / (m1 + m2)\n",
    "# Pack the parameters\n",
    "p = (κ, ν);"
   ]
  },
  {
   "cell_type": "code",
   "execution_count": 14,
   "id": "98a4ee29-c33b-44e3-b1f2-f369651fb420",
   "metadata": {},
   "outputs": [],
   "source": [
    "\n",
    "prob = ODEProblem(doublependulum!, initial, tspan, p);"
   ]
  },
  {
   "cell_type": "code",
   "execution_count": 19,
   "id": "4b9a5e80-75a9-4333-9de0-eda2e5b75cda",
   "metadata": {},
   "outputs": [],
   "source": [
    "sol = solve(prob, Tsit5(), abstol = 1e-7, reltol = 1e-7);"
   ]
  },
  {
   "cell_type": "code",
   "execution_count": 21,
   "id": "b0bf447e-5ff1-45e6-81d0-2546fb93e398",
   "metadata": {},
   "outputs": [],
   "source": [
    "\n",
    "np = 2001\n",
    "t = range(tspan[1], tspan[2], np)\n",
    "sl = sol(t);"
   ]
  },
  {
   "cell_type": "code",
   "execution_count": 22,
   "id": "5125ab6c-06d3-496c-9c1c-e379c7031416",
   "metadata": {},
   "outputs": [],
   "source": [
    "\n",
    "theta1 = sl[1, :]\n",
    "theta2 = sl[2, :];"
   ]
  },
  {
   "cell_type": "code",
   "execution_count": 23,
   "id": "2dcf72ed-6d75-4182-9289-0af889c5adee",
   "metadata": {},
   "outputs": [],
   "source": [
    "\n",
    "x1 =  l1 .* sin.(theta1)\n",
    "y1 = -l1 .* cos.(theta1)\n",
    "x2 = x1 .+ l2 .* sin.(theta2)\n",
    "y2 = y1 .- l2 .* cos.(theta2);"
   ]
  },
  {
   "cell_type": "code",
   "execution_count": 24,
   "id": "237162be-3ddd-4f67-905f-ed83077f1da0",
   "metadata": {},
   "outputs": [],
   "source": [
    "\"\"\"\n",
    "    snapshot_ft(nt, pts_disp, xl, xr, yb, yt, t, x1, y1, x2, y2)\n",
    "\n",
    "Display the current positions (x1[nt], y1[nt]) and (x2[nt], y2(nt]), and \n",
    "the trajectories' fading tails - the most recent pts_disp points\n",
    "\"\"\"\n",
    "function snapshot_ft(nt, pts_disp, box, t, x1, y1, x2, y2)\n",
    "    nt_start = max(1, nt-pts_disp)\n",
    "    xl, xr, yb, yt = box\n",
    "    axis(\"square\")\n",
    "    xlim(xl, xr)\n",
    "    ylim(yb, yt)\n",
    "    titl = @sprintf(\"Double pendulum t = %5.2f .. %5.2f\",\n",
    "                    t[nt_start], t[nt])\n",
    "    title(titl, family=\"monospace\")\n",
    "    xlabel(L\"$x$\")\n",
    "    ylabel(L\"$y$\")\n",
    "    grid(true)\n",
    "\n",
    "    # pivot\n",
    "    plot(0.0, 0.0, color=\"black\", marker=\"x\", markersize=5.0)\n",
    "\n",
    "    # two rods\n",
    "    plot([0.0, x1[nt],x2[nt]], [0.0, y1[nt], y2[nt]], color=\"black\")\n",
    "\n",
    "    # mass 1\n",
    "    c1 = \"green\"\n",
    "    plot(x1[nt], y1[nt], color=c1, marker=\"o\", markersize=5.0)\n",
    "    \n",
    "    # mass 2\n",
    "    c2 = \"blue\"\n",
    "    plot(x2[nt], y2[nt], color=c2, marker=\"o\", markersize=5.0)\n",
    "\n",
    "    # fading tail trajectory of mass 2\n",
    "    c2p = parse(RGBA, c2)\n",
    "    for i = nt_start:nt-1\n",
    "        transp = 1.0 - ((nt-i-1)/(pts_disp-1))^2\n",
    "        cc = (c2p.r, c2p.g, c2p.b, transp)\n",
    "        plot([x2[i], x2[i+1]], [y2[i], y2[i+1]], color=cc, linewidth=0.5)\n",
    "    end\n",
    "    return nothing\n",
    "end;"
   ]
  },
  {
   "cell_type": "code",
   "execution_count": 25,
   "id": "7ea2dd2f-9117-45ac-9be7-63a7a29eb899",
   "metadata": {},
   "outputs": [],
   "source": [
    "\n",
    "\n",
    "axis_lim = (l1 + l2)*1.2\n",
    "xl = -axis_lim\n",
    "xr = -xl\n",
    "yb = -axis_lim\n",
    "yt = -yb\n",
    "box = (xl, xr, yb, yt);"
   ]
  },
  {
   "cell_type": "code",
   "execution_count": 30,
   "id": "0841e0b0-ee61-4d0c-9e20-96da745caad0",
   "metadata": {},
   "outputs": [
    {
     "data": {
      "text/plain": [
       "1981"
      ]
     },
     "execution_count": 30,
     "metadata": {},
     "output_type": "execute_result"
    }
   ],
   "source": [
    "\n",
    "\n",
    "# Define the length of the trajectory's tail\n",
    "f = 0.99                      # Fraction of displayed points\n",
    "pts_disp = round(Int, f*np)  # Number of displayed points"
   ]
  },
  {
   "cell_type": "code",
   "execution_count": 31,
   "id": "a767881e-0f38-46fa-aca7-47c38d31e0f3",
   "metadata": {},
   "outputs": [
    {
     "data": {
      "image/png": "[encoded data removed]",
      "text/plain": [
       "Figure(PyObject <Figure size 640x480 with 1 Axes>)"
      ]
     },
     "metadata": {},
     "output_type": "display_data"
    }
   ],
   "source": [
    "\n",
    "fig = figure()\n",
    "for nt = 1:10:np\n",
    "    snapshot_ft(nt, pts_disp, box, t, x1, y1, x2, y2)\n",
    "    display(fig)\n",
    "    IJulia.clear_output(true)\n",
    "    clf()\n",
    "end"
   ]
  },
  {
   "cell_type": "code",
   "execution_count": null,
   "id": "2c3a9cf3-4f3e-43bf-a037-c062bed7502d",
   "metadata": {},
   "outputs": [],
   "source": []
  }
 ],
 "metadata": {
  "kernelspec": {
   "display_name": "Julia 1.11.6",
   "language": "julia",
   "name": "julia-1.11"
  },
  "language_info": {
   "file_extension": ".jl",
   "mimetype": "application/julia",
   "name": "julia",
   "version": "1.11.6"
  }
 },
 "nbformat": 4,
 "nbformat_minor": 5
}
